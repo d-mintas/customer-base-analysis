{
 "cells": [
  {
   "cell_type": "code",
   "execution_count": 6,
   "metadata": {
    "collapsed": false
   },
   "outputs": [],
   "source": [
    "\"\"\"\n",
    "Implementation of probabalistic (Beta-Geometric/NBD) generative modeling, coupled with Bayesian\n",
    "tecnhiques for parameter estimation and model tuning. Using these means the end goal of achieving\n",
    "meaningful, accurate predictions for customer-level statistics in a business with a non-contractual,\n",
    "continuous-time revenue model has finally been realized. Predictions for total LTV, future\n",
    "transaction flows, time-until-next-purchase, and time-until-dropout may all be estimated \n",
    "accurately and at customer-level granularity.\n",
    "\"\"\"\n",
    "\n",
    "__author__ = 'dm'\n",
    "\n",
    "\n",
    "from math import log, exp\n",
    "import numpy as np\n",
    "from scipy.optimize import minimize\n",
    "from scipy.special import gammaln\n"
   ]
  },
  {
   "cell_type": "code",
   "execution_count": 7,
   "metadata": {
    "collapsed": false
   },
   "outputs": [
    {
     "ename": "SyntaxError",
     "evalue": "Missing parentheses in call to 'print' (<ipython-input-7-e1f81fbee407>, line 53)",
     "output_type": "error",
     "traceback": [
      "\u001b[0;36m  File \u001b[0;32m\"<ipython-input-7-e1f81fbee407>\"\u001b[0;36m, line \u001b[0;32m53\u001b[0m\n\u001b[0;31m    print r, alpha, a, b\u001b[0m\n\u001b[0m          ^\u001b[0m\n\u001b[0;31mSyntaxError\u001b[0m\u001b[0;31m:\u001b[0m Missing parentheses in call to 'print'\n"
     ]
    }
   ],
   "source": [
    "def log_likelihood_individual(r, alpha, a, b, x, tx, t):\n",
    "    \n",
    "    \"\"\"Log-likelihood function for a randomly chosen individual\n",
    "    with purchase history H = (x, t, T), where x is the number\n",
    "    of transactions in the time interval (0, T], and t (0 < t <= T)\n",
    "    is the time of the most recent transaction.\n",
    "    \"\"\"\n",
    "    \n",
    "    ln_a1 = gammaln(r + x) - gammaln(r) + r * log(alpha)\n",
    "    ln_a2 = gammaln(a + b) + gammaln(b + x) - gammaln(b) - gammaln(a + b + x)\n",
    "    ln_a3 = -(r + x) * log(alpha + t)\n",
    "    a4 = 0\n",
    "    if x > 0:\n",
    "        a4 = exp(log(a) - log(b + x - 1) - (r + x) * log(alpha + tx))\n",
    "    return ln_a1 + ln_a2 + log(exp(ln_a3) + a4)\n",
    "\n",
    "\n",
    "def log_likelihood(r, alpha, a, b, customers):\n",
    "    \"\"\"Sum of the individual log likelihoods\"\"\"\n",
    "    # can't put constraints on n-m minimizer so fake them here\n",
    "    if r <= 0 or alpha <= 0 or a <= 0 or b <= 0:\n",
    "        return -np.inf\n",
    "    return sum([log_likelihood_individual(r, alpha, a, b, x, tx, t) for x, tx, t in customers])\n",
    "\n",
    "\n",
    "def maximize(customers):\n",
    "    negative_ll = lambda params: -log_likelihood(*params, customers=customers)\n",
    "    params0 = np.array([1., 1., 1., 1.])\n",
    "    res = minimize(negative_ll, params0, method='nelder-mead', options={'xtol': 1e-8})\n",
    "    return res\n",
    "\n",
    "\n",
    "def fit(customers):\n",
    "    res = maximize(customers)\n",
    "    if res.status != 0:\n",
    "        raise Exception(res.message)\n",
    "    return res.x\n",
    "\n",
    "\n",
    "def cdnow_customer_data(fname):\n",
    "    data = []\n",
    "    with open(fname) as f:\n",
    "        f.readline()\n",
    "        for line in f:\n",
    "            data.append(map(float, line.strip().split(',')[1:4]))\n",
    "    return data\n",
    "\n",
    "\n",
    "def main():\n",
    "    data = cdnow_customer_data('cdnow_customers.csv')\n",
    "    r, alpha, a, b = fit(data)\n",
    "    # fit according to the note\n",
    "    print r, alpha, a, b\n",
    "    print np.allclose([r, alpha, a, b], [.243, 4.414, .793, 2.426], 1e-2)\n",
    "\n",
    "\n",
    "if __name__ == '__main__':\n",
    "    main()"
   ]
  },
  {
   "cell_type": "code",
   "execution_count": null,
   "metadata": {
    "collapsed": true
   },
   "outputs": [],
   "source": []
  },
  {
   "cell_type": "code",
   "execution_count": null,
   "metadata": {
    "collapsed": true
   },
   "outputs": [],
   "source": []
  },
  {
   "cell_type": "code",
   "execution_count": null,
   "metadata": {
    "collapsed": true
   },
   "outputs": [],
   "source": []
  }
 ],
 "metadata": {
  "anaconda-cloud": {},
  "kernelspec": {
   "display_name": "Python [main]",
   "language": "python",
   "name": "Python [main]"
  },
  "language_info": {
   "codemirror_mode": {
    "name": "ipython",
    "version": 3
   },
   "file_extension": ".py",
   "mimetype": "text/x-python",
   "name": "python",
   "nbconvert_exporter": "python",
   "pygments_lexer": "ipython3",
   "version": "3.5.1"
  }
 },
 "nbformat": 4,
 "nbformat_minor": 0
}
